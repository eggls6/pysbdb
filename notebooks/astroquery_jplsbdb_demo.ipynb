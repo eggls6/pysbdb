{
 "cells": [
  {
   "cell_type": "markdown",
   "metadata": {},
   "source": [
    "# Astroquery jplsbdb demo\n",
    "\n",
    "Siegfried Eggl"
   ]
  },
  {
   "cell_type": "markdown",
   "metadata": {},
   "source": [
    "Jplsbdb is a python wrapper for the NASA JPL API developed in the framework of sbpy:\n",
    "https://sbpy.org/\n",
    "\n",
    "It provides an astropy interface to the Small Body Database: https://ssd.jpl.nasa.gov/sbdb.cgi"
   ]
  },
  {
   "cell_type": "code",
   "execution_count": 1,
   "metadata": {},
   "outputs": [],
   "source": [
    "from astroquery.jplsbdb import SBDB"
   ]
  },
  {
   "cell_type": "code",
   "execution_count": 2,
   "metadata": {},
   "outputs": [
    {
     "name": "stdout",
     "output_type": "stream",
     "text": [
      "Help on function query in module astroquery.utils.process_asyncs:\n",
      "\n",
      "query(self, *args, **kwargs)\n",
      "    Queries the service and returns a table object.\n",
      "    \n",
      "    This method queries the `JPL Small-Body Database Browser\n",
      "    <https://ssd.jpl.nasa.gov/sbdb.cgi>`_ and returns an\n",
      "    `~collections.OrderedDict` with all queried information.\n",
      "    \n",
      "    Parameters\n",
      "    ----------\n",
      "    targetid: str\n",
      "        Target identifier or search string (if ``id_type='search'``)\n",
      "    id_type: str, optional\n",
      "        Defines the type of identifier provided through ``targetid``:\n",
      "        ``'search'`` for a search string (designations, numbers, and\n",
      "        names in varius forms, including MPC packed form and\n",
      "        case-insensitive names; wildcard character ``'*'`` is allowed),\n",
      "        ``'spk'`` for a spice kernel id, or ``'desig'`` for an object\n",
      "        designation. Default value: ``'search'``\n",
      "    neo_only: boolean, optional\n",
      "        If ``True``, only output for Near-Earth Objects (NEOs) is\n",
      "        returned. Default value: ``False``.\n",
      "    alternate_id: boolean, optional\n",
      "        Return alternate identifiers (designations and Spice kernel\n",
      "        ids) if ``True``. Default: ``False``\n",
      "    full_precision: boolean, optional\n",
      "        Provide results using full precision. Default: ``False``\n",
      "    solution_epoch: boolean, optional\n",
      "        Output orbit data at the JPL orbit-solution epoch instead of\n",
      "        the standard MPC epoch. Default: ``False``\n",
      "    covariance: str or ``None``, optional\n",
      "        Output the orbital covariance (if available) in the full matrix\n",
      "        form when ``mat``, in the upper-triangular vector-stored form\n",
      "        when ``vec``, or in the upper-triangular vector-stored\n",
      "        square-root form when ``src``; provide no covariance when\n",
      "        ``None``. Default: ``None``\n",
      "    validity: boolean, optional\n",
      "        Provide the validity ranges of the orbital elements as Julian\n",
      "        Dates. Default: ``False``\n",
      "    alternate_orbit: boolean, optional\n",
      "        Provide alternate orbits, if available. Default: ``False``\n",
      "    phys: boolean, optional\n",
      "        Provide physical property information, if available. Default:\n",
      "        ``False``\n",
      "    close_approach: boolean, optional\n",
      "        Output information on close approaches with the major planets.\n",
      "        Default: ``False``\n",
      "    radar: boolean, optional\n",
      "        Provide information on radar observations of the target. Default:\n",
      "        ``False``\n",
      "    virtual_impactor: boolean, optional\n",
      "        Provide information on a potential virtual impactor nature of the\n",
      "        target from the `JPL Sentry system\n",
      "        <http://cneos.jpl.nasa.gov/sentry/>`_. Default: ``False``\n",
      "    discovery: boolean, optional\n",
      "        Output discovery circumstances and IAU name citation data.\n",
      "        Default: ``False``\n",
      "    get_query_payload: bool, optional\n",
      "        This should default to ``False``. When set to ``True`` the method\n",
      "        should return the HTTP request parameters as a dict.\n",
      "    get_raw_response : boolean, optional\n",
      "        Return raw data as obtained by JPL SBDB without parsing the\n",
      "        data. Default: ``False``\n",
      "    get_uri : boolean, optional\n",
      "        Add the query URI to the output as ``query_uri`` field.\n",
      "        Default: ``False``\n",
      "    \n",
      "    Examples\n",
      "    --------\n",
      "    >>> from astroquery.jplsbdb import SBDB\n",
      "    >>> sbdb = SBDB.query('3552')  # doctest: +SKIP\n",
      "    >>> print(sbdb) # doctest: +SKIP\n",
      "    OrderedDict([('object', OrderedDict([('shortname', '3552 Don Quixote'), ('neo', True), ... ])\n",
      "    \n",
      "    \n",
      "    Returns\n",
      "    -------\n",
      "    table : A `~astropy.table.Table` object.\n",
      "\n"
     ]
    }
   ],
   "source": [
    "help(SBDB.query)"
   ]
  },
  {
   "cell_type": "code",
   "execution_count": 3,
   "metadata": {},
   "outputs": [],
   "source": [
    "target='2014QF182'\n",
    "data=SBDB.query(target,full_precision=True,covariance='mat',get_raw_response=False)"
   ]
  },
  {
   "cell_type": "markdown",
   "metadata": {},
   "source": [
    "The query returns an ordered dictionary:"
   ]
  },
  {
   "cell_type": "code",
   "execution_count": 9,
   "metadata": {},
   "outputs": [
    {
     "data": {
      "text/plain": [
       "OrderedDict([('object',\n",
       "              OrderedDict([('neo', False),\n",
       "                           ('orbit_class',\n",
       "                            OrderedDict([('name', 'Main-belt Asteroid'),\n",
       "                                         ('code', 'MBA')])),\n",
       "                           ('pha', False),\n",
       "                           ('spkid', '3893449'),\n",
       "                           ('kind', 'au'),\n",
       "                           ('orbit_id', '1'),\n",
       "                           ('fullname', '(2014 QF182)'),\n",
       "                           ('des', '2014 QF182'),\n",
       "                           ('prefix', None)])),\n",
       "             ('signature',\n",
       "              OrderedDict([('source',\n",
       "                            'NASA/JPL Small-Body Database (SBDB) API'),\n",
       "                           ('version', '1.1')])),\n",
       "             ('orbit',\n",
       "              OrderedDict([('source', 'JPL'),\n",
       "                           ('moid_jup', Unit(\"2.34933 AU\")),\n",
       "                           ('t_jup', '3.359'),\n",
       "                           ('condition_code', '0'),\n",
       "                           ('not_valid_before', None),\n",
       "                           ('rms', '.73833'),\n",
       "                           ('model_pars', []),\n",
       "                           ('orbit_id', '1'),\n",
       "                           ('producer', 'Otto Matic'),\n",
       "                           ('first_obs', '2006-11-21'),\n",
       "                           ('soln_date', '2019-11-25 12:33:09'),\n",
       "                           ('two_body', None),\n",
       "                           ('epoch', Unit(\"2.4586e+06 d\")),\n",
       "                           ('elements',\n",
       "                            OrderedDict([('e', '.0998028282889077'),\n",
       "                                         ('e_sig', '9.6723E-8'),\n",
       "                                         ('a', Unit(\"2.64536 AU\")),\n",
       "                                         ('a_sig', Unit(\"6.3951e-08 AU\")),\n",
       "                                         ('q', Unit(\"2.38135 AU\")),\n",
       "                                         ('q_sig', Unit(\"2.7362e-07 AU\")),\n",
       "                                         ('i', Unit(\"11.2239 deg\")),\n",
       "                                         ('i_sig', Unit(\"1.8221e-05 deg\")),\n",
       "                                         ('om', Unit(\"302.775 deg\")),\n",
       "                                         ('om_sig', Unit(\"4.0301e-05 deg\")),\n",
       "                                         ('w', Unit(\"120.148 deg\")),\n",
       "                                         ('w_sig', Unit(\"0.0001088 deg\")),\n",
       "                                         ('ma', Unit(\"310.681 deg\")),\n",
       "                                         ('ma_sig', Unit(\"9.6502e-05 deg\")),\n",
       "                                         ('tp', Unit(\"2.45882e+06 d\")),\n",
       "                                         ('tp_sig', Unit(\"0.00042291 d\")),\n",
       "                                         ('per', Unit(\"1571.54 d\")),\n",
       "                                         ('per_sig', Unit(\"5.6988e-05 d\")),\n",
       "                                         ('n', Unit(\"0.229074 deg / d\")),\n",
       "                                         ('n_sig', Unit(\"8.3068e-09 deg / d\")),\n",
       "                                         ('ad', Unit(\"2.90938 AU\")),\n",
       "                                         ('ad_sig', Unit(\"7.0334e-08 AU\"))])),\n",
       "                           ('equinox', 'J2000'),\n",
       "                           ('data_arc', '4717'),\n",
       "                           ('not_valid_after', None),\n",
       "                           ('n_del_obs_used', None),\n",
       "                           ('sb_used', 'SB431-N16'),\n",
       "                           ('n_obs_used', '50'),\n",
       "                           ('covariance',\n",
       "                            OrderedDict([('epoch', Unit(\"2.45727e+06 d\")),\n",
       "                                         ('elements',\n",
       "                                          OrderedDict([('e',\n",
       "                                                        '.09813395132708698'),\n",
       "                                                       ('e_sig',\n",
       "                                                        9.53370776542262e-08),\n",
       "                                                       ('q',\n",
       "                                                        Unit(\"2.38597 AU\")),\n",
       "                                                       ('q_sig',\n",
       "                                                        <Quantity 2.69484381e-07 AU>),\n",
       "                                                       ('tp',\n",
       "                                                        Unit(\"2.45724e+06 d\")),\n",
       "                                                       ('tp_sig',\n",
       "                                                        <Quantity 0.0004261 d>),\n",
       "                                                       ('om',\n",
       "                                                        Unit(\"302.918 deg\")),\n",
       "                                                       ('om_sig',\n",
       "                                                        <Quantity 4.02397053e-05 deg>),\n",
       "                                                       ('w',\n",
       "                                                        Unit(\"119.448 deg\")),\n",
       "                                                       ('w_sig',\n",
       "                                                        <Quantity 0.00011131 deg>),\n",
       "                                                       ('i',\n",
       "                                                        Unit(\"11.2285 deg\")),\n",
       "                                                       ('i_sig',\n",
       "                                                        <Quantity 1.8232208e-05 deg>)])),\n",
       "                                         ('data',\n",
       "                                          array([[ 9.08915838e-15, -2.51168474e-14,  2.60747241e-11,\n",
       "                                                  -8.29659293e-14,  6.50402854e-12, -6.97146370e-15],\n",
       "                                                 [-2.51168474e-14,  7.26218319e-14, -6.65764835e-11,\n",
       "                                                   2.03985001e-13, -1.66608419e-11,  2.73028381e-14],\n",
       "                                                 [ 2.60747241e-11, -6.65764835e-11,  1.81559135e-07,\n",
       "                                                  -4.95819625e-10,  4.42503776e-08,  4.19843392e-11],\n",
       "                                                 [-8.29659293e-14,  2.03985001e-13, -4.95819625e-10,\n",
       "                                                   1.61923388e-09, -1.70690722e-09,  2.55231425e-10],\n",
       "                                                 [ 6.50402854e-12, -1.66608419e-11,  4.42503776e-08,\n",
       "                                                  -1.70690722e-09,  1.23899551e-08, -2.41023465e-10],\n",
       "                                                 [-6.97146370e-15,  2.73028381e-14,  4.19843392e-11,\n",
       "                                                   2.55231425e-10, -2.41023465e-10,  3.32413409e-10]])),\n",
       "                                         ('labels',\n",
       "                                          ['e',\n",
       "                                           'q',\n",
       "                                           'tp',\n",
       "                                           'node',\n",
       "                                           'peri',\n",
       "                                           'i'])])),\n",
       "                           ('comment', None),\n",
       "                           ('pe_used', 'DE431'),\n",
       "                           ('last_obs', '2019-10-21'),\n",
       "                           ('moid', Unit(\"1.41748 AU\")),\n",
       "                           ('n_dop_obs_used', None)]))])"
      ]
     },
     "execution_count": 9,
     "metadata": {},
     "output_type": "execute_result"
    }
   ],
   "source": [
    "data"
   ]
  },
  {
   "cell_type": "markdown",
   "metadata": {},
   "source": [
    "Orbital elements are astropy quantities and can be accessed as follows:"
   ]
  },
  {
   "cell_type": "code",
   "execution_count": 11,
   "metadata": {},
   "outputs": [
    {
     "data": {
      "text/latex": [
       "$\\mathrm{2.6453615\\,AU}$"
      ],
      "text/plain": [
       "Unit(\"2.64536 AU\")"
      ]
     },
     "execution_count": 11,
     "metadata": {},
     "output_type": "execute_result"
    }
   ],
   "source": [
    "semia=data['orbit']['elements']['a']\n",
    "semia"
   ]
  },
  {
   "cell_type": "code",
   "execution_count": 12,
   "metadata": {},
   "outputs": [
    {
     "data": {
      "text/plain": [
       "2.645361484396996"
      ]
     },
     "execution_count": 12,
     "metadata": {},
     "output_type": "execute_result"
    }
   ],
   "source": [
    "semia.to('AU')"
   ]
  },
  {
   "cell_type": "code",
   "execution_count": 13,
   "metadata": {},
   "outputs": [
    {
     "data": {
      "text/plain": [
       "395740445.2975819"
      ]
     },
     "execution_count": 13,
     "metadata": {},
     "output_type": "execute_result"
    }
   ],
   "source": [
    "semia.to('km')"
   ]
  },
  {
   "cell_type": "markdown",
   "metadata": {},
   "source": [
    "In order to access the raw JSON file sent back by JPL use the following options:"
   ]
  },
  {
   "cell_type": "code",
   "execution_count": 15,
   "metadata": {},
   "outputs": [],
   "source": [
    "data_raw=SBDB.query('2014QF182',full_precision=True,covariance='mat',get_raw_response=True)"
   ]
  },
  {
   "cell_type": "code",
   "execution_count": 16,
   "metadata": {},
   "outputs": [
    {
     "data": {
      "text/plain": [
       "'{\"object\":{\"neo\":false,\"orbit_class\":{\"name\":\"Main-belt Asteroid\",\"code\":\"MBA\"},\"pha\":false,\"spkid\":\"3893449\",\"kind\":\"au\",\"orbit_id\":\"1\",\"fullname\":\"(2014 QF182)\",\"des\":\"2014 QF182\",\"prefix\":null},\"signature\":{\"source\":\"NASA/JPL Small-Body Database (SBDB) API\",\"version\":\"1.1\"},\"orbit\":{\"source\":\"JPL\",\"moid_jup\":\"2.34933\",\"t_jup\":\"3.359\",\"condition_code\":\"0\",\"not_valid_before\":null,\"rms\":\".73833\",\"model_pars\":[],\"orbit_id\":\"1\",\"producer\":\"Otto Matic\",\"first_obs\":\"2006-11-21\",\"soln_date\":\"2019-11-25 12:33:09\",\"two_body\":null,\"epoch\":\"2458600.5\",\"elements\":[{\"value\":\".0998028282889077\",\"sigma\":\"9.6723E-8\",\"name\":\"e\",\"title\":\"eccentricity\",\"label\":\"e\",\"units\":null},{\"value\":\"2.645361484396996\",\"sigma\":\"6.3951E-8\",\"name\":\"a\",\"title\":\"semi-major axis\",\"label\":\"a\",\"units\":\"au\"},{\"value\":\"2.381346926407632\",\"sigma\":\"2.7362E-7\",\"name\":\"q\",\"title\":\"perihelion distance\",\"label\":\"q\",\"units\":\"au\"},{\"value\":\"11.22389755074912\",\"sigma\":\"1.8221E-5\",\"name\":\"i\",\"title\":\"inclination; angle with respect to x-y ecliptic plane\",\"label\":\"i\",\"units\":\"deg\"},{\"value\":\"302.7754675051952\",\"sigma\":\"4.0301E-5\",\"name\":\"om\",\"title\":\"longitude of the ascending node\",\"label\":\"node\",\"units\":\"deg\"},{\"value\":\"120.1483581955764\",\"sigma\":\".0001088\",\"name\":\"w\",\"title\":\"argument of perihelion\",\"label\":\"peri\",\"units\":\"deg\"},{\"value\":\"310.6814764166431\",\"sigma\":\"9.6502E-5\",\"name\":\"ma\",\"title\":\"mean anomaly\",\"label\":\"M\",\"units\":\"deg\"},{\"value\":\"2458815.794795868896\",\"sigma\":\".00042291\",\"name\":\"tp\",\"title\":\"time of perihelion passage\",\"label\":\"tp\",\"units\":\"TDB\"},{\"value\":\"1571.541905178971\",\"sigma\":\"5.6988E-5\",\"name\":\"per\",\"title\":\"sidereal orbital period\",\"label\":\"period\",\"units\":\"d\"},{\"value\":\".2290743879075896\",\"sigma\":\"8.3068E-9\",\"name\":\"n\",\"title\":\"mean motion\",\"label\":\"n\",\"units\":\"deg/d\"},{\"value\":\"2.909376042386359\",\"sigma\":\"7.0334E-8\",\"name\":\"ad\",\"title\":\"aphelion distance\",\"label\":\"Q\",\"units\":\"au\"}],\"equinox\":\"J2000\",\"data_arc\":\"4717\",\"not_valid_after\":null,\"n_del_obs_used\":null,\"sb_used\":\"SB431-N16\",\"n_obs_used\":\"50\",\"covariance\":{\"epoch\":\"2457268.5\",\"elements\":[{\"value\":\".09813395132708698\",\"sigma\":9.53370776542262e-08,\"name\":\"e\",\"title\":\"eccentricity\",\"label\":\"e\",\"units\":null},{\"value\":\"2.385965611346431\",\"sigma\":2.69484381461573e-07,\"name\":\"q\",\"title\":\"perihelion distance\",\"label\":\"q\",\"units\":\"au\"},{\"value\":\"2457241.021270373333\",\"sigma\":0.000426097564950193,\"name\":\"tp\",\"title\":\"time of perihelion passage\",\"label\":\"tp\",\"units\":\"TDB\"},{\"value\":\"302.9176608075141\",\"sigma\":4.02397052947344e-05,\"name\":\"om\",\"title\":\"longitude of the ascending node\",\"label\":\"node\",\"units\":\"deg\"},{\"value\":\"119.4481363909474\",\"sigma\":0.000111310175382789,\"name\":\"w\",\"title\":\"argument of perihelion\",\"label\":\"peri\",\"units\":\"deg\"},{\"value\":\"11.22852377327516\",\"sigma\":1.82322080170942e-05,\"name\":\"i\",\"title\":\"inclination\",\"label\":\"i\",\"units\":\"deg\"}],\"data\":[[\"9.089158375647951E-15\",\"-2.511684739048132E-14\",\"2.607472410535697E-11\",\"-8.29659292511701E-14\",\"6.504028537045644E-12\",\"-6.9714637007408E-15\"],[\"-2.511684739048132E-14\",\"7.26218318517265E-14\",\"-6.657648345711793E-11\",\"2.039850014519856E-13\",\"-1.666084191222214E-11\",\"2.730283814721459E-14\"],[\"2.607472410535697E-11\",\"-6.657648345711793E-11\",\"1.81559134856484E-7\",\"-4.958196253679457E-10\",\"4.42503776408E-8\",\"4.198433920910627E-11\"],[\"-8.29659292511701E-14\",\"2.039850014519856E-13\",\"-4.958196253679457E-10\",\"1.619233882207078E-9\",\"-1.7069072210416E-9\",\"2.552314251877181E-10\"],[\"6.504028537045644E-12\",\"-1.666084191222214E-11\",\"4.42503776408E-8\",\"-1.7069072210416E-9\",\"1.238995514374731E-8\",\"-2.410234650411207E-10\"],[\"-6.9714637007408E-15\",\"2.730283814721459E-14\",\"4.198433920910627E-11\",\"2.552314251877181E-10\",\"-2.410234650411207E-10\",\"3.324134091785927E-10\"]],\"labels\":[\"e\",\"q\",\"tp\",\"node\",\"peri\",\"i\"]},\"comment\":null,\"pe_used\":\"DE431\",\"last_obs\":\"2019-10-21\",\"moid\":\"1.41748\",\"n_dop_obs_used\":null}}\\n'"
      ]
     },
     "execution_count": 16,
     "metadata": {},
     "output_type": "execute_result"
    }
   ],
   "source": [
    "data_raw"
   ]
  },
  {
   "cell_type": "code",
   "execution_count": null,
   "metadata": {},
   "outputs": [],
   "source": []
  }
 ],
 "metadata": {
  "kernelspec": {
   "display_name": "Python 3",
   "language": "python",
   "name": "python3"
  },
  "language_info": {
   "codemirror_mode": {
    "name": "ipython",
    "version": 3
   },
   "file_extension": ".py",
   "mimetype": "text/x-python",
   "name": "python",
   "nbconvert_exporter": "python",
   "pygments_lexer": "ipython3",
   "version": "3.7.3"
  }
 },
 "nbformat": 4,
 "nbformat_minor": 2
}
