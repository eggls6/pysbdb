{
 "cells": [
  {
   "cell_type": "markdown",
   "metadata": {},
   "source": [
    "# pysbdb Example Notebooks \n",
    "\n",
    "python interface for NASA JPL Small Body Database queries https://ssd.jpl.nasa.gov/sbdb.cgi\n"
   ]
  },
  {
   "cell_type": "code",
   "execution_count": 1,
   "metadata": {},
   "outputs": [],
   "source": [
    "from pysbdb import fetch_data"
   ]
  },
  {
   "cell_type": "code",
   "execution_count": 2,
   "metadata": {},
   "outputs": [],
   "source": [
    "# Fetch all data from Ceres\n",
    "ceres=fetch_data.get_all('Ceres')"
   ]
  },
  {
   "cell_type": "code",
   "execution_count": 3,
   "metadata": {},
   "outputs": [
    {
     "data": {
      "text/plain": [
       "{'phys_par': [{'ref': 'IRAS-A-FPA-3-RDR-IMPS-V6.0',\n",
       "   'value': '3.34',\n",
       "   'name': 'H',\n",
       "   'desc': 'absolute magnitude (magnitude at 1 au from Sun and observer)',\n",
       "   'notes': 'IRAS observations used: 15',\n",
       "   'sigma': None,\n",
       "   'title': 'absolute magnitude',\n",
       "   'units': None},\n",
       "  {'ref': 'PDS3 (MPC 17257)',\n",
       "   'value': '0.12',\n",
       "   'name': 'G',\n",
       "   'desc': 'magnitude slope parameter used in the standard asteroid H/G magnitude law',\n",
       "   'notes': 'Fit',\n",
       "   'sigma': None,\n",
       "   'title': 'magnitude slope',\n",
       "   'units': None},\n",
       "  {'ref': 'Nature vol. 537, pp515-517 (22 September 2016)',\n",
       "   'value': '939.4',\n",
       "   'name': 'diameter',\n",
       "   'desc': 'effective body diameter',\n",
       "   'notes': None,\n",
       "   'sigma': '0.2',\n",
       "   'title': 'diameter',\n",
       "   'units': 'km'},\n",
       "  {'ref': 'Nature vol. 537, pp515-517 (22 September 2016)',\n",
       "   'value': '964.4 x 964.2 x 891.8',\n",
       "   'name': 'extent',\n",
       "   'desc': 'tri(or bi)-axial body dimensions',\n",
       "   'notes': 'fit w.r.t. center of mass and in body-fixed frame',\n",
       "   'sigma': '0.2 x 0.2 x 0.2',\n",
       "   'title': 'extent',\n",
       "   'units': 'km'},\n",
       "  {'ref': 'Nature vol. 537, pp515-517 (22 September 2016)',\n",
       "   'value': '62.6284',\n",
       "   'name': 'GM',\n",
       "   'desc': 'standard gravitational parameter: product of the mass (M) and gravitational constant (G)',\n",
       "   'notes': None,\n",
       "   'sigma': '0.0009',\n",
       "   'title': 'GM',\n",
       "   'units': 'km^3/s^2'},\n",
       "  {'ref': 'Nature vol. 537, pp515-517 (22 September 2016)',\n",
       "   'value': '2.162',\n",
       "   'name': 'density',\n",
       "   'desc': 'bulk density',\n",
       "   'notes': None,\n",
       "   'sigma': '0.008',\n",
       "   'title': 'bulk density',\n",
       "   'units': 'g/cm^3'},\n",
       "  {'ref': 'Nature vol. 537, pp515-517 (22 September 2016)',\n",
       "   'value': '9.074170',\n",
       "   'name': 'rot_per',\n",
       "   'desc': 'body rotation period (synodic)',\n",
       "   'notes': 'derived from published value: 952.1532 +/- 0.0001 deg./day',\n",
       "   'sigma': '0.000001',\n",
       "   'title': 'rotation period',\n",
       "   'units': 'h'},\n",
       "  {'ref': 'Nature vol. 537, pp515-517 (22 September 2016)',\n",
       "   'value': '291.421/66.758',\n",
       "   'name': 'pole',\n",
       "   'desc': 'spin-pole direction in R.A./Dec.',\n",
       "   'notes': None,\n",
       "   'sigma': '0.007/0.002',\n",
       "   'title': 'pole direction',\n",
       "   'units': None},\n",
       "  {'ref': 'Li et al. (2006) Icarus v182:pp143-160',\n",
       "   'value': '0.090',\n",
       "   'name': 'albedo',\n",
       "   'desc': 'geometric albedo',\n",
       "   'notes': 'V-band geometric albedo',\n",
       "   'sigma': '0.003',\n",
       "   'title': 'geometric albedo',\n",
       "   'units': None},\n",
       "  {'ref': 'EAR-A-5-DDR-UBV-MEAN-VALUES-V1.2',\n",
       "   'value': '0.713',\n",
       "   'name': 'BV',\n",
       "   'desc': 'color index B-V magnitude difference',\n",
       "   'notes': '#obs=52; phase (min.=1.47, mean=11.85, max.=22.59) deg.',\n",
       "   'sigma': '0.014',\n",
       "   'title': 'B-V',\n",
       "   'units': None},\n",
       "  {'ref': 'EAR-A-5-DDR-UBV-MEAN-VALUES-V1.2',\n",
       "   'value': '0.426',\n",
       "   'name': 'UB',\n",
       "   'desc': 'color index U-B magnitude difference',\n",
       "   'notes': '#obs=52; phase (min.=1.47, mean=12.16, max.=22.59) deg.',\n",
       "   'sigma': '0.026',\n",
       "   'title': 'U-B',\n",
       "   'units': None},\n",
       "  {'ref': 'EAR-A-5-DDR-TAXONOMY-V4.0',\n",
       "   'value': 'G',\n",
       "   'name': 'spec_T',\n",
       "   'desc': 'Tholen spectral taxonomic classification',\n",
       "   'notes': 'used 7 color indices; used ground-based radiometric albedo',\n",
       "   'sigma': None,\n",
       "   'title': 'Tholen spectral type',\n",
       "   'units': None},\n",
       "  {'ref': 'EAR-A-5-DDR-TAXONOMY-V4.0',\n",
       "   'value': 'C',\n",
       "   'name': 'spec_B',\n",
       "   'desc': 'SMASSII spectral taxonomic classification',\n",
       "   'notes': 'based on a high-resolution spectrum by Xu et al. (1995) or Bus and Binzel (2002)',\n",
       "   'sigma': None,\n",
       "   'title': 'SMASSII spectral type',\n",
       "   'units': None}],\n",
       " 'object': {'neo': False,\n",
       "  'orbit_class': {'name': 'Main-belt Asteroid', 'code': 'MBA'},\n",
       "  'pha': False,\n",
       "  'spkid': '2000001',\n",
       "  'kind': 'an',\n",
       "  'orbit_id': '46',\n",
       "  'fullname': '1 Ceres',\n",
       "  'des': '1',\n",
       "  'prefix': None},\n",
       " 'signature': {'source': 'NASA/JPL Small-Body Database (SBDB) API',\n",
       "  'version': '1.1'},\n",
       " 'orbit': {'source': 'JPL',\n",
       "  'moid_jup': '2.09753',\n",
       "  't_jup': '3.309',\n",
       "  'condition_code': '0',\n",
       "  'not_valid_before': None,\n",
       "  'rms': '.40633',\n",
       "  'model_pars': [],\n",
       "  'orbit_id': '46',\n",
       "  'producer': 'Davide Farnocchia',\n",
       "  'first_obs': '1995-01-05',\n",
       "  'soln_date': '2019-06-05 16:22:15',\n",
       "  'two_body': None,\n",
       "  'epoch': '2458600.5',\n",
       "  'elements': [{'value': '.07600902910070946',\n",
       "    'sigma': '4.819E-12',\n",
       "    'name': 'e',\n",
       "    'title': 'eccentricity',\n",
       "    'label': 'e',\n",
       "    'units': None},\n",
       "   {'value': '2.76916515450648',\n",
       "    'sigma': '1.0328E-11',\n",
       "    'name': 'a',\n",
       "    'title': 'semi-major axis',\n",
       "    'label': 'a',\n",
       "    'units': 'au'},\n",
       "   {'value': '2.558683599692926',\n",
       "    'sigma': '1.9569E-11',\n",
       "    'name': 'q',\n",
       "    'title': 'perihelion distance',\n",
       "    'label': 'q',\n",
       "    'units': 'au'},\n",
       "   {'value': '10.59406704424526',\n",
       "    'sigma': '4.6089E-9',\n",
       "    'name': 'i',\n",
       "    'title': 'inclination; angle with respect to x-y ecliptic plane',\n",
       "    'label': 'i',\n",
       "    'units': 'deg'},\n",
       "   {'value': '80.30553156826473',\n",
       "    'sigma': '6.1688E-8',\n",
       "    'name': 'om',\n",
       "    'title': 'longitude of the ascending node',\n",
       "    'label': 'node',\n",
       "    'units': 'deg'},\n",
       "   {'value': '73.597694115971',\n",
       "    'sigma': '6.6248E-8',\n",
       "    'name': 'w',\n",
       "    'title': 'argument of perihelion',\n",
       "    'label': 'peri',\n",
       "    'units': 'deg'},\n",
       "   {'value': '77.37209588584763',\n",
       "    'sigma': '7.8207E-9',\n",
       "    'name': 'ma',\n",
       "    'title': 'mean anomaly',\n",
       "    'label': 'M',\n",
       "    'units': 'deg'},\n",
       "   {'value': '2458238.754135805026',\n",
       "    'sigma': '3.7829E-8',\n",
       "    'name': 'tp',\n",
       "    'title': 'time of perihelion passage',\n",
       "    'label': 'tp',\n",
       "    'units': 'TDB'},\n",
       "   {'value': '1683.145708012431',\n",
       "    'sigma': '9.4159E-9',\n",
       "    'name': 'per',\n",
       "    'title': 'sidereal orbital period',\n",
       "    'label': 'period',\n",
       "    'units': 'd'},\n",
       "   {'value': '.213885225911375',\n",
       "    'sigma': '1.1965E-12',\n",
       "    'name': 'n',\n",
       "    'title': 'mean motion',\n",
       "    'label': 'n',\n",
       "    'units': 'deg/d'},\n",
       "   {'value': '2.979646709320033',\n",
       "    'sigma': '1.1113E-11',\n",
       "    'name': 'ad',\n",
       "    'title': 'aphelion distance',\n",
       "    'label': 'Q',\n",
       "    'units': 'au'}],\n",
       "  'equinox': 'J2000',\n",
       "  'data_arc': '8822',\n",
       "  'not_valid_after': None,\n",
       "  'n_del_obs_used': '60',\n",
       "  'sb_used': 'SB431-N343',\n",
       "  'n_obs_used': '1002',\n",
       "  'covariance': {'epoch': '2454033.5',\n",
       "   'elements': [{'value': '.07987906346370539',\n",
       "     'sigma': 4.85768292809097e-12,\n",
       "     'name': 'e',\n",
       "     'title': 'eccentricity',\n",
       "     'label': 'e',\n",
       "     'units': None},\n",
       "    {'value': '2.544709153978707',\n",
       "     'sigma': 1.98652598164725e-11,\n",
       "     'name': 'q',\n",
       "     'title': 'perihelion distance',\n",
       "     'label': 'q',\n",
       "     'units': 'au'},\n",
       "    {'value': '2453193.661427532668',\n",
       "     'sigma': 5.93860739399002e-08,\n",
       "     'name': 'tp',\n",
       "     'title': 'time of perihelion passage',\n",
       "     'label': 'tp',\n",
       "     'units': 'TDB'},\n",
       "    {'value': '80.40846590069125',\n",
       "     'sigma': 6.18488359926519e-08,\n",
       "     'name': 'om',\n",
       "     'title': 'longitude of the ascending node',\n",
       "     'label': 'node',\n",
       "     'units': 'deg'},\n",
       "    {'value': '73.1893463033331',\n",
       "     'sigma': 6.6269818851237e-08,\n",
       "     'name': 'w',\n",
       "     'title': 'argument of perihelion',\n",
       "     'label': 'peri',\n",
       "     'units': 'deg'},\n",
       "    {'value': '10.58671483589909',\n",
       "     'sigma': 4.59794146994008e-09,\n",
       "     'name': 'i',\n",
       "     'title': 'inclination',\n",
       "     'label': 'i',\n",
       "     'units': 'deg'}],\n",
       "   'data': [['2.359708342986643E-23',\n",
       "     '-8.692979651012082E-23',\n",
       "     '1.422717771159141E-19',\n",
       "     '-5.75507938566486E-20',\n",
       "     '7.178865239420896E-20',\n",
       "     '-7.372334328553742E-21'],\n",
       "    ['-8.692979651012082E-23',\n",
       "     '3.946285475759565E-22',\n",
       "     '-9.050746369771276E-19',\n",
       "     '4.326772836546345E-19',\n",
       "     '-5.174256340480895E-19',\n",
       "     '3.189969100887842E-20'],\n",
       "    ['1.422717771159141E-19',\n",
       "     '-9.050746369771276E-19',\n",
       "     '3.526705777995292E-15',\n",
       "     '-2.296317600607573E-15',\n",
       "     '2.673649069233148E-15',\n",
       "     '-7.121069419350327E-17'],\n",
       "    ['-5.75507938566486E-20',\n",
       "     '4.326772836546345E-19',\n",
       "     '-2.296317600607573E-15',\n",
       "     '3.825278513645953E-15',\n",
       "     '-4.085769872651348E-15',\n",
       "     '6.727981533727408E-17'],\n",
       "    ['7.178865239420896E-20',\n",
       "     '-5.174256340480895E-19',\n",
       "     '2.673649069233148E-15',\n",
       "     '-4.085769872651348E-15',\n",
       "     '4.391688890575763E-15',\n",
       "     '-7.42134033889736E-17'],\n",
       "    ['-7.372334328553742E-21',\n",
       "     '3.189969100887842E-20',\n",
       "     '-7.121069419350327E-17',\n",
       "     '6.727981533727408E-17',\n",
       "     '-7.42134033889736E-17',\n",
       "     '2.114106576099476E-17']],\n",
       "   'labels': ['e', 'q', 'tp', 'node', 'peri', 'i']},\n",
       "  'comment': None,\n",
       "  'pe_used': 'DE431',\n",
       "  'last_obs': '2019-03-02',\n",
       "  'moid': '1.59478',\n",
       "  'n_dop_obs_used': '0'}}"
      ]
     },
     "execution_count": 3,
     "metadata": {},
     "output_type": "execute_result"
    }
   ],
   "source": [
    "ceres"
   ]
  },
  {
   "cell_type": "code",
   "execution_count": 4,
   "metadata": {},
   "outputs": [
    {
     "name": "stdout",
     "output_type": "stream",
     "text": [
      "Help on function cometary_ele_cov in module pysbdb:\n",
      "\n",
      "cometary_ele_cov(tname)\n",
      "    Acquire cometary orbital elements and the corresponding covariance matrix of a minor planet at a given epoch from NASA JPL's web API\n",
      "    \n",
      "    Dependencies: json, requests\n",
      "    Input: string, object name or designation (e.g. 'Eros')\n",
      "    Output: [epoch (JD), cometary elements [e,q(au),tp(JD),node(deg),peri(deg),inc(deg)],[6x6 or 9x9 covariance matrix]]\n",
      "    \n",
      "    For details see:\n",
      "    https://ssd-api.jpl.nasa.gov/doc/sbdb.html\n",
      "\n"
     ]
    }
   ],
   "source": [
    "help(fetch_data.cometary_ele_cov)"
   ]
  },
  {
   "cell_type": "code",
   "execution_count": 5,
   "metadata": {},
   "outputs": [],
   "source": [
    "duende=fetch_data.cometary_ele_cov('Duende')"
   ]
  },
  {
   "cell_type": "code",
   "execution_count": 6,
   "metadata": {},
   "outputs": [],
   "source": [
    "epoch=duende[0]\n",
    "cov=duende[2]\n",
    "com=duende[1]"
   ]
  },
  {
   "cell_type": "code",
   "execution_count": 7,
   "metadata": {},
   "outputs": [
    {
     "data": {
      "text/plain": [
       "2456165.5"
      ]
     },
     "execution_count": 7,
     "metadata": {},
     "output_type": "execute_result"
    }
   ],
   "source": [
    "#Epoch of orbital elements in JD (TDB)\n",
    "epoch"
   ]
  },
  {
   "cell_type": "code",
   "execution_count": 8,
   "metadata": {},
   "outputs": [
    {
     "data": {
      "text/plain": [
       "[0.10812935219311,\n",
       " 0.8934926246676751,\n",
       " 2456261.553285984,\n",
       " 147.2624792437615,\n",
       " 271.086261479318,\n",
       " 10.33729958423475]"
      ]
     },
     "execution_count": 8,
     "metadata": {},
     "output_type": "execute_result"
    }
   ],
   "source": [
    "#cometary orbital elements [e,q(au),tp(JD),node(deg),peri(deg),inc(deg)]\n",
    "com"
   ]
  },
  {
   "cell_type": "code",
   "execution_count": 9,
   "metadata": {},
   "outputs": [
    {
     "data": {
      "text/plain": [
       "array([[ 1.22427066e-15, -1.21595471e-15, -7.70335932e-15,\n",
       "         7.27276618e-16, -1.49591848e-13, -3.61762539e-14],\n",
       "       [-1.21595471e-15,  1.21014550e-15,  8.78586162e-15,\n",
       "        -7.17810854e-16,  1.50033328e-13,  3.59520167e-14],\n",
       "       [-7.70335932e-15,  8.78586162e-15,  6.00186647e-13,\n",
       "         5.81889730e-15,  1.63466838e-12,  2.85535705e-13],\n",
       "       [ 7.27276618e-16, -7.17810854e-16,  5.81889730e-15,\n",
       "         1.11320495e-14, -8.87319114e-14,  3.01011899e-14],\n",
       "       [-1.49591848e-13,  1.50033328e-13,  1.63466838e-12,\n",
       "        -8.87319114e-14,  1.91672708e-11,  4.42994470e-12],\n",
       "       [-3.61762539e-14,  3.59520167e-14,  2.85535705e-13,\n",
       "         3.01011899e-14,  4.42994470e-12,  1.33606512e-12]])"
      ]
     },
     "execution_count": 9,
     "metadata": {},
     "output_type": "execute_result"
    }
   ],
   "source": [
    "#covariance matrix\n",
    "cov"
   ]
  },
  {
   "cell_type": "code",
   "execution_count": 10,
   "metadata": {},
   "outputs": [
    {
     "data": {
      "text/plain": [
       "[2458600.5,\n",
       " [0.9103167940471301,\n",
       "  0.08937638399215168,\n",
       "  11.60897052762353,\n",
       "  195.5803760404092,\n",
       "  146.9540994951865,\n",
       "  207.7007433115063]]"
      ]
     },
     "execution_count": 10,
     "metadata": {},
     "output_type": "execute_result"
    }
   ],
   "source": [
    "fetch_data.kepler_elements('Duende')"
   ]
  },
  {
   "cell_type": "code",
   "execution_count": null,
   "metadata": {},
   "outputs": [],
   "source": []
  }
 ],
 "metadata": {
  "kernelspec": {
   "display_name": "Python 3",
   "language": "python",
   "name": "python3"
  },
  "language_info": {
   "codemirror_mode": {
    "name": "ipython",
    "version": 3
   },
   "file_extension": ".py",
   "mimetype": "text/x-python",
   "name": "python",
   "nbconvert_exporter": "python",
   "pygments_lexer": "ipython3",
   "version": "3.7.3"
  }
 },
 "nbformat": 4,
 "nbformat_minor": 2
}
